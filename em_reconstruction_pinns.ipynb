{
 "cells": [
  {
   "cell_type": "code",
   "execution_count": 1,
   "metadata": {},
   "outputs": [],
   "source": [
    "import numpy as np         \n",
    "import matplotlib.pyplot as plt               \n",
    "import torch      \n",
    "import torch.nn as nn    \n",
    "import torch.optim as optim \n",
    "from torch.optim.lr_scheduler import ReduceLROnPlateau \n",
    "from torch.utils.data import TensorDataset, DataLoader        \n",
    "from sklearn.preprocessing import StandardScaler\n",
    "import time      \n",
    "from scipy.ndimage import uniform_filter1d    \n",
    "import pandas as pd\n",
    "import pickle \n",
    "import h5py\n",
    "import os "
   ]
  },
  {
   "cell_type": "code",
   "execution_count": null,
   "metadata": {},
   "outputs": [],
   "source": [
    "import h5py \n",
    "\n",
    "def read_hdf5_file(file):\n",
    "    data_dict = {}\n",
    "    def visitor_func(name, node):\n",
    "        if isinstance(node, h5py.Dataset):\n",
    "            data_dict[name] = node[()]\n",
    "    file.visititems(visitor_func)\n",
    "    return data_dict\n",
    "\n",
    "with h5py.File('3D_Bdot_noavg.hdf5', 'r') as f:\n",
    "    data_dict = read_hdf5_file(f)\n",
    "    \n",
    "data_dict "
   ]
  }
 ],
 "metadata": {
  "kernelspec": {
   "display_name": "pinn_stuff",
   "language": "python",
   "name": "python3"
  },
  "language_info": {
   "codemirror_mode": {
    "name": "ipython",
    "version": 3
   },
   "file_extension": ".py",
   "mimetype": "text/x-python",
   "name": "python",
   "nbconvert_exporter": "python",
   "pygments_lexer": "ipython3",
   "version": "3.11.0"
  }
 },
 "nbformat": 4,
 "nbformat_minor": 2
}
